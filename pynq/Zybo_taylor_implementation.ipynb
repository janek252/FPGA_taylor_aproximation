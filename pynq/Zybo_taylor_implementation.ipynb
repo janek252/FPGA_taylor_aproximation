{
 "cells": [
  {
   "cell_type": "markdown",
   "id": "4a395055",
   "metadata": {},
   "source": [
    "![ph_1](photos/ph_1.png)"
   ]
  },
  {
   "cell_type": "markdown",
   "id": "7a2f3bbf",
   "metadata": {},
   "source": [
    "Przedmiot:      **Systemy Dedykowane W Układach Programowalnych**\n",
    "\n",
    "Autorzy:\n",
    "* **Wiktor Pantak**\n",
    "          \n",
    "* **Jan Rudecki**"
   ]
  },
  {
   "cell_type": "markdown",
   "id": "ab7c8f47",
   "metadata": {},
   "source": [
    "## Wstęp"
   ]
  },
  {
   "cell_type": "markdown",
   "id": "4cb6e6bf",
   "metadata": {},
   "source": [
    "Celem projektu było zaimplementowanie **szeregu Taylora** dla funkcji Sinus na FPGA **Zybo Zynq-7000 ARM/FPGA SoC Trainer Board**.\n",
    "Wykorzystywanym oprogramowaniem było Vivado 2023.2.2 oraz środowisko Pynq przystosowane na używaną płytkę."
   ]
  },
  {
   "cell_type": "markdown",
   "id": "a16a6eb8",
   "metadata": {},
   "source": [
    "## Płytka Zynq-7000 ARM/FPGA SoC Trainer Board"
   ]
  },
  {
   "cell_type": "markdown",
   "id": "d41e4294",
   "metadata": {},
   "source": [
    "![ph_0](photos/ph_0.png)"
   ]
  },
  {
   "cell_type": "markdown",
   "id": "9c87e70c",
   "metadata": {},
   "source": [
    "![ph_0](photos/ph_6.png)"
   ]
  },
  {
   "cell_type": "markdown",
   "id": "26023eef",
   "metadata": {},
   "source": [
    "__ZYBO__ (**ZY**nq **BO**ard) to bogate w funkcje, gotowe do użycia, podstawowe oprogramowanie wbudowane i platforma rozwoju obwodów cyfrowych, zbudowana wokół najmniejszego członka rodziny Xilinx Zynq-7000, Z-7010. Z-7010 jest oparty na architekturze Xilinx All Programmable System-on-Chip (AP SoC), która ściśle integruje dwurdzeniowy procesor ARM Cortex-A9 z logiką Xilinx 7-series Field Programmable Gate Array (FPGA)."
   ]
  },
  {
   "cell_type": "markdown",
   "id": "7468cbef",
   "metadata": {},
   "source": [
    "## Implementacja Szeregu Taylora"
   ]
  },
  {
   "cell_type": "markdown",
   "id": "64c89af2",
   "metadata": {},
   "source": [
    "Szereg Taylora jest przedstawieniem funckji różniczkowalnej za pomocą sumy wielomianu n-tego stopnia.\n",
    "Poniżej znajduje się wykorzystany wzór szeregu Taylora dla Sinusa w naszej implementacji."
   ]
  },
  {
   "cell_type": "markdown",
   "id": "3d210e65",
   "metadata": {},
   "source": [
    "![ph_2](photos/ph_2.png)"
   ]
  },
  {
   "cell_type": "markdown",
   "id": "e6afa771",
   "metadata": {},
   "source": [
    "Pierwotny pomysł implementacji został pzedstawiony na poniższym schemacie, zawiera on nastepujące funkcjonalne bloki:\n",
    "\n",
    "\n",
    "* __*__    - Mnożenie\n",
    "* __+__    - Dodawanie\n",
    "\n",
    "Dodatkowo w tabeli są przedstawione wartości początkowe potrzebne w kolejnych iteracjach algorytmu, zmienna x przedstawia dane wejściowe.\n"
   ]
  },
  {
   "cell_type": "markdown",
   "id": "9da8e3c6",
   "metadata": {},
   "source": [
    "![ph_3](photos/ph_3.png)"
   ]
  },
  {
   "cell_type": "markdown",
   "id": "b677ca56",
   "metadata": {},
   "source": [
    "Ostatecznie w implementacji wykorzystano pierwsze 4 iteracje, jest to spowodowane precyzją zmiennych, gdyż wykorzystujemy fixed point[12:10] i po piątej iteracji traciliśmy dokładność."
   ]
  },
  {
   "cell_type": "markdown",
   "id": "aa99d9e2",
   "metadata": {},
   "source": [
    "Ostateczna implementacja w języku System Verilog jest przedstawiona poprzez poniższą maszynę stanów:"
   ]
  },
  {
   "cell_type": "markdown",
   "id": "88d7f94d",
   "metadata": {},
   "source": [
    "![ph_4](photos/ph_4.png)"
   ]
  },
  {
   "cell_type": "markdown",
   "id": "49062c72",
   "metadata": {},
   "source": [
    "\n",
    "\n",
    "Algorytm uruchamia się w momencie kiedy start_in wynosi 1, iteruje się łącznei 5 razy, z czego pierwsza iteracja następuje przed pętlą, są przygotowane zmienne, o dwa razy większej ilosci bitów, w celu przechowywania wyników mnożeń (zmienne _mul).\n",
    "Wartośc x_in jest przekazywana do algorytmu w formacie FXP[12:10], a następnie przypisywana do zmiennej x_base.\n",
    "Wynik końcowy jest przypisywany do zmiennej sin_out, zmienna ready_out ustawia stan na \"1\" przez co informuje o zakończeniu algorytmu.\n",
    "\n"
   ]
  },
  {
   "cell_type": "markdown",
   "id": "6568fe3e",
   "metadata": {},
   "source": [
    "Całośc implementacji znajduje sie w repozytrium github, pod linkiem: https://github.com/janek252/FPGA_taylor_aproximation.git"
   ]
  },
  {
   "cell_type": "markdown",
   "id": "6ab743ee",
   "metadata": {},
   "source": [
    "## Wyniki symulacji algorytmu"
   ]
  },
  {
   "cell_type": "markdown",
   "id": "4158dedc",
   "metadata": {},
   "source": [
    "![ph_5](photos/ph_5.png)"
   ]
  },
  {
   "cell_type": "markdown",
   "id": "71500dee",
   "metadata": {},
   "source": [
    "Symulacja przedatwia zmiany kątów w zakresie od 0&deg; do 45&deg;, umożliwia to zaobserwowania rzeczywistej wartości sinusa (**sin_expected**) oraz implementacji sprzętowej sinusa (**sin_actual**).\n",
    "Przedstawiono również procentowe pokrycie **sin_actual** przez **sin_expected** poprzez zmienną **delta**. "
   ]
  },
  {
   "cell_type": "markdown",
   "id": "57d36432",
   "metadata": {},
   "source": [
    "## Implementacja sprzętowa"
   ]
  },
  {
   "cell_type": "markdown",
   "id": "6c72eeba",
   "metadata": {},
   "source": [
    "![ph_7](photos/ph_7.png)"
   ]
  },
  {
   "cell_type": "markdown",
   "id": "a353ab83",
   "metadata": {},
   "source": [
    "W implementacji sprzętowej wykorzystano wymagane bloki:\n",
    "* **ZYNQ7 Processing System** - odpowiada za procesor ARM \n",
    "* **AXI Interconnect** - magistrala AXI, wymagana do podłaczenia procesora do taylor_ip\n",
    "* **Processor System Reset** - system resetowania procesora\n",
    "* **taylor_ip_v1.2** - implementacja hardware szeregu Taylora\n",
    "\n",
    "W celu umożliwienia wykorzystania rejestrów w bloku taylor_ip_v1.2 konieczne było ręczne dodanie ich tak jak na zdjęciu poniżej:"
   ]
  },
  {
   "cell_type": "markdown",
   "id": "0b0e1cee",
   "metadata": {},
   "source": [
    "![ph_9](photos/ph_9.png)"
   ]
  },
  {
   "cell_type": "markdown",
   "id": "eb446831",
   "metadata": {},
   "source": [
    "Prezentacja layoutu implementacji bramek:"
   ]
  },
  {
   "cell_type": "markdown",
   "id": "5a19192c",
   "metadata": {},
   "source": [
    "![ph_8](photos/ph_8.png)"
   ]
  },
  {
   "cell_type": "markdown",
   "id": "5e17088e",
   "metadata": {},
   "source": [
    "## Implementacja w środowisku PYNQ"
   ]
  },
  {
   "cell_type": "markdown",
   "id": "e31fdb2f",
   "metadata": {},
   "source": [
    "Import Bibliotek:"
   ]
  },
  {
   "cell_type": "code",
   "execution_count": 7,
   "id": "977f15cf",
   "metadata": {},
   "outputs": [],
   "source": [
    "import numpy as np\n",
    "import matplotlib.pyplot as plt\n",
    "import os"
   ]
  },
  {
   "cell_type": "markdown",
   "id": "86b65e32",
   "metadata": {},
   "source": [
    "Załadowanie pliku .xsa"
   ]
  },
  {
   "cell_type": "code",
   "execution_count": 8,
   "id": "f5e53640",
   "metadata": {},
   "outputs": [],
   "source": [
    "\n",
    "from pynq import Overlay\n",
    "zybo_taylor_ov = Overlay(\"zybo_taylor_wrapper_final.xsa\")\n"
   ]
  },
  {
   "cell_type": "markdown",
   "id": "8ea3b084",
   "metadata": {},
   "source": [
    "Przypisanie rejestrów do zmiennej oraz ich wyświetlenie:"
   ]
  },
  {
   "cell_type": "code",
   "execution_count": 9,
   "id": "a33ca285",
   "metadata": {},
   "outputs": [
    {
     "name": "stdout",
     "output_type": "stream",
     "text": [
      "RegisterMap {\n",
      "  slv_reg0 = Register(value=0),\n",
      "  slv_reg1 = Register(value=0),\n",
      "  slv_reg2 = Register(value=0),\n",
      "  slv_reg3 = Register(value=0)\n",
      "}\n"
     ]
    }
   ],
   "source": [
    "taylor_seq = zybo_taylor_ov.taylor_ip_0.register_map\n",
    "print(taylor_seq)"
   ]
  },
  {
   "cell_type": "markdown",
   "id": "715e1313",
   "metadata": {},
   "source": [
    "Następujące rejestry odpowiadają nastepującym zmiennym maszyny stanów implementacji:\n",
    "* **slv_reg0** odpowiada start_in\n",
    "* **slv_reg1** odpowiada x_in\n",
    "* **slv_reg2** odpowiada ready_out\n",
    "* **slv_reg3** odpowiada sin_out"
   ]
  },
  {
   "cell_type": "markdown",
   "id": "c8c8da56",
   "metadata": {},
   "source": [
    "## Test Implementacji oraz wyświetlenie wyników: \n",
    "\n",
    "Algorytm porównuje wartości funkcji sinus obliczane za pomocą biblioteki NumPy z wartościami obliczanymi przez sprzęt. Działa na kątach w zakresie od 5° do 60°, obliczając wartość sinus dla każdego kąta zarówno za pomocą NumPy, jak i sprzętu. Następnie porównuje wyniki, wyznaczając różnice procentowe i numeryczne.\n",
    "\n",
    "### Najważniejsze zmienne\n",
    "\n",
    "- `angles_deg`: Tablica kątów w stopniach (od 5° do 60° z krokiem 5°).\n",
    "- `sin_numpy`: Wartość sinusa obliczona za pomocą NumPy dla `angle_rad`.\n",
    "- `angle_fxp`: Wartość kąta skonwertowana na wartość stałoprzecinkową.\n",
    "- `sin`: Surowa wartość sinusa odczytana ze sprzętu.\n",
    "- `sin_hardware`: Wartość sinusa obliczona przez sprzęt po przeskalowaniu.\n",
    "\n",
    "### Przebieg algorytmu\n",
    "\n",
    "1. **Inicjalizacja**: Ustalenie list do przechowywania wyników.\n",
    "2. **Pętla po kątach**:\n",
    "    - Dla każdego kąta:\n",
    "        - Obliczenie wartości sinus za pomocą NumPy.\n",
    "        - Konwersja kąta na wartość stałoprzecinkową.\n",
    "        - Ustawienie odpowiednich rejestrów sprzętowych.\n",
    "        - Odczyt wartości sinus ze sprzętu.\n",
    "        - Obliczenie różnic procentowych i numerycznych między wynikami NumPy a sprzętem.\n",
    "        - Zapisanie wyników do list.\n",
    "3. **Rysowanie wykresu**: Porównanie wyników za pomocą wykresu\n"
   ]
  },
  {
   "cell_type": "code",
   "execution_count": 10,
   "id": "bb83fb50",
   "metadata": {},
   "outputs": [
    {
     "name": "stdout",
     "output_type": "stream",
     "text": [
      "Badany kąt:  5 °\n",
      "sin_numpy 0.08715574274765817\n",
      "sin_taylor 0.0859375\n",
      "blad bezwzgledny =  -0.0012182427476581659\n",
      "blad wzgledny =  -1.3977767950246738\n",
      "-----------------------------------\n",
      "Badany kąt:  10 °\n",
      "sin_numpy 0.17364817766693033\n",
      "sin_taylor 0.171875\n",
      "blad bezwzgledny =  -0.0017731776669303312\n",
      "blad wzgledny =  -1.0211323209687884\n",
      "-----------------------------------\n",
      "Badany kąt:  15 °\n",
      "sin_numpy 0.25881904510252074\n",
      "sin_taylor 0.2578125\n",
      "blad bezwzgledny =  -0.0010065451025207395\n",
      "blad wzgledny =  -0.38889916393982416\n",
      "-----------------------------------\n",
      "Badany kąt:  20 °\n",
      "sin_numpy 0.3420201433256687\n",
      "sin_taylor 0.3408203125\n",
      "blad bezwzgledny =  -0.001199830825668713\n",
      "blad wzgledny =  -0.3508070647541493\n",
      "-----------------------------------\n",
      "Badany kąt:  25 °\n",
      "sin_numpy 0.42261826174069944\n",
      "sin_taylor 0.4208984375\n",
      "blad bezwzgledny =  -0.0017198242406994413\n",
      "blad wzgledny =  -0.40694508410870617\n",
      "-----------------------------------\n",
      "Badany kąt:  30 °\n",
      "sin_numpy 0.49999999999999994\n",
      "sin_taylor 0.4990234375\n",
      "blad bezwzgledny =  -0.0009765624999999445\n",
      "blad wzgledny =  -0.19531249999998893\n",
      "-----------------------------------\n",
      "Badany kąt:  35 °\n",
      "sin_numpy 0.573576436351046\n",
      "sin_taylor 0.5712890625\n",
      "blad bezwzgledny =  -0.0022873738510460484\n",
      "blad wzgledny =  -0.3987914610993724\n",
      "-----------------------------------\n",
      "Badany kąt:  40 °\n",
      "sin_numpy 0.6427876096865393\n",
      "sin_taylor 0.6396484375\n",
      "blad bezwzgledny =  -0.003139172186539252\n",
      "blad wzgledny =  -0.4883684967216613\n",
      "-----------------------------------\n",
      "Badany kąt:  45 °\n",
      "sin_numpy 0.7071067811865475\n",
      "sin_taylor 0.705078125\n",
      "blad bezwzgledny =  -0.0020286561865474617\n",
      "blad wzgledny =  -0.2868953092407504\n",
      "-----------------------------------\n",
      "Badany kąt:  50 °\n",
      "sin_numpy 0.766044443118978\n",
      "sin_taylor 0.763671875\n",
      "blad bezwzgledny =  -0.0023725681189780135\n",
      "blad wzgledny =  -0.3097167716951272\n",
      "-----------------------------------\n",
      "Badany kąt:  55 °\n",
      "sin_numpy 0.8191520442889918\n",
      "sin_taylor 0.81640625\n",
      "blad bezwzgledny =  -0.0027457942889917986\n",
      "blad wzgledny =  -0.33519958939675176\n",
      "-----------------------------------\n",
      "Badany kąt:  60 °\n",
      "sin_numpy 0.8660254037844386\n",
      "sin_taylor 0.86328125\n",
      "blad bezwzgledny =  -0.0027441537844385966\n",
      "blad wzgledny =  -0.3168675852286708\n",
      "-----------------------------------\n"
     ]
    }
   ],
   "source": [
    "\n",
    "angles_deg = np.linspace(5, 60, 12).astype(int)\n",
    "\n",
    "# Listy do przechowywania wyników\n",
    "angles = []\n",
    "sin_numpy_values = []\n",
    "sin_hardware_values = []\n",
    "blad_bezwzgledny_values = []\n",
    "blad_wzgledny_values = []\n",
    "\n",
    "for angle_deg in angles_deg:\n",
    "    print(\"Badany kąt: \", angle_deg, \"°\")\n",
    "    angle_rad = np.deg2rad(angle_deg)\n",
    "    \n",
    "    # Obliczanie wartości sinus za pomocą NumPy\n",
    "    sin_numpy = np.sin(angle_rad)\n",
    "    print(\"sin_numpy\", sin_numpy)\n",
    "    \n",
    "    # Konwersja kąta na wartość stałoprzecinkową\n",
    "    angle_fxp = (int(1024 * angle_deg * 1024 * np.pi) >> 10) / 180\n",
    "    \n",
    "    # Ustawienia rejestrów sprzętowych\n",
    "    taylor_seq.slv_reg1 = angle_fxp + 0\n",
    "    taylor_seq.slv_reg0 = 1\n",
    "    \n",
    "    # Odczyt wartości sinus ze sprzętu\n",
    "    sin = ((int(taylor_seq.slv_reg3) & 0x00000FFF) << 20) >> 20\n",
    "    sin_hardware = sin / 1024\n",
    "    print(\"sin_taylor\", sin_hardware)\n",
    "    \n",
    "    # Wyznaczanie błędu względnego i bezwzględnego\n",
    "    taylor_seq.slv_reg0 = 0\n",
    "    sin_blad_bezwzgledny = sin_hardware - sin_numpy\n",
    "    sin_blad_wzgledny = sin_blad_bezwzgledny / sin_numpy * 100\n",
    "    print(\"blad bezwzgledny = \", sin_blad_bezwzgledny)\n",
    "    print(\"blad wzgledny = \", sin_blad_wzgledny)\n",
    "    print(\"-----------------------------------\")\n",
    "    \n",
    "    # Zapisanie wyników do list\n",
    "    angles.append(angle_deg)\n",
    "    sin_numpy_values.append(sin_numpy)\n",
    "    sin_hardware_values.append(sin_hardware)\n",
    "    blad_bezwzgledny_values.append(sin_blad_bezwzgledny)\n",
    "    blad_wzgledny_values.append(sin_blad_wzgledny)\n",
    "\n"
   ]
  },
  {
   "cell_type": "code",
   "execution_count": 11,
   "id": "4c34d0d5",
   "metadata": {},
   "outputs": [
    {
     "data": {
      "image/png": "[encoded data removed]",
      "text/plain": [
       "<Figure size 720x432 with 1 Axes>"
      ]
     },
     "metadata": {
      "needs_background": "light"
     },
     "output_type": "display_data"
    },
    {
     "data": {
      "image/png": "[encoded data removed]",
      "text/plain": [
       "<Figure size 720x432 with 1 Axes>"
      ]
     },
     "metadata": {
      "needs_background": "light"
     },
     "output_type": "display_data"
    },
    {
     "data": {
      "image/png": "[encoded data removed]",
      "text/plain": [
       "<Figure size 720x432 with 1 Axes>"
      ]
     },
     "metadata": {
      "needs_background": "light"
     },
     "output_type": "display_data"
    }
   ],
   "source": [
    "# Rysowanie wykresu\n",
    "plt.figure(0,figsize=(10, 6))\n",
    "plt.plot(angles, sin_numpy_values, label=\"Sinus (NumPy)\", marker='o')\n",
    "plt.plot(angles, sin_hardware_values, label=\"Sinus (Sprzęt)\", marker='x')\n",
    "plt.xlabel(\"Kąt (°)\")\n",
    "plt.ylabel(\"Wartość sinusa\")\n",
    "plt.title(\"Porównanie wartości sinus (NumPy vs Sprzęt)\")\n",
    "plt.legend()\n",
    "plt.grid(True)\n",
    "\n",
    "plt.figure(1, figsize=(10, 6))\n",
    "plt.plot(angles, blad_bezwzgledny_values, label=\"Błąd bezwzględny\", marker='o')\n",
    "plt.xlabel(\"Kąt (°)\")\n",
    "plt.ylabel(\"Wartość błędu\")\n",
    "plt.title(\"Błąd bezwzględny (NumPy vs Sprzęt)\")\n",
    "plt.legend()\n",
    "plt.grid(True)\n",
    "\n",
    "plt.figure(2, figsize=(10, 6))\n",
    "plt.plot(angles, blad_wzgledny_values, label=\"Błąd względny\", marker='x')\n",
    "plt.xlabel(\"Kąt (°)\")\n",
    "plt.ylabel(\"Wartość błędu (%)\")\n",
    "plt.title(\"Błąd względny (NumPy vs Sprzęt)\")\n",
    "plt.legend()\n",
    "plt.grid(True)\n",
    "\n",
    "plt.show()\n"
   ]
  },
  {
   "cell_type": "markdown",
   "id": "496522a6",
   "metadata": {},
   "source": [
    "\n"
   ]
  },
  {
   "cell_type": "markdown",
   "id": "247cb8fe",
   "metadata": {},
   "source": [
    "## Bibliografia"
   ]
  },
  {
   "cell_type": "markdown",
   "id": "fb9048c3",
   "metadata": {},
   "source": [
    "* https://digilent.com/reference/programmable-logic/zybo/start?redirect=1\n",
    "* https://people.math.sc.edu/girardi/m142/handouts/10sTaylorPolySeries.pdf\n",
    "* https://pl.wikipedia.org/wiki/Wz%C3%B3r_Taylora\n",
    "* https://discuss.pynq.io/t/registers-addressing-for-hwh-file/1667\n",
    "* Custom system design in FPGA laboratory Tutorial 2 Simulation of the AXI-based accelerated system - Paweł Russek ver. 2021.03.23\n",
    "\n",
    "* CUSTOM SYSTEM DESIGN IN FPGA LABORATORY PYNQ - introduction ver 0.2.1"
   ]
  }
 ],
 "metadata": {
  "kernelspec": {
   "display_name": "Python 3 (ipykernel)",
   "language": "python",
   "name": "python3"
  },
  "language_info": {
   "codemirror_mode": {
    "name": "ipython",
    "version": 3
   },
   "file_extension": ".py",
   "mimetype": "text/x-python",
   "name": "python",
   "nbconvert_exporter": "python",
   "pygments_lexer": "ipython3",
   "version": "3.10.4"
  }
 },
 "nbformat": 4,
 "nbformat_minor": 5
}
